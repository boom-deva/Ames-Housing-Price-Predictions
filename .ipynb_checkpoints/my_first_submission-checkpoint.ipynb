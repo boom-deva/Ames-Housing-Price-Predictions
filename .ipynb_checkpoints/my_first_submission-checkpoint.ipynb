{
 "cells": [
  {
   "cell_type": "code",
   "execution_count": 1,
   "metadata": {},
   "outputs": [],
   "source": [
    "import pandas as pd\n",
    "import numpy as np"
   ]
  },
  {
   "cell_type": "code",
   "execution_count": 2,
   "metadata": {},
   "outputs": [],
   "source": [
    "df = pd.read_csv(\"./datasets/train.csv\")"
   ]
  },
  {
   "cell_type": "code",
   "execution_count": 3,
   "metadata": {},
   "outputs": [
    {
     "data": {
      "text/plain": [
       "(2051, 81)"
      ]
     },
     "execution_count": 3,
     "metadata": {},
     "output_type": "execute_result"
    }
   ],
   "source": [
    "df.shape"
   ]
  },
  {
   "cell_type": "code",
   "execution_count": 4,
   "metadata": {},
   "outputs": [
    {
     "name": "stdout",
     "output_type": "stream",
     "text": [
      "<class 'pandas.core.frame.DataFrame'>\n",
      "RangeIndex: 2051 entries, 0 to 2050\n",
      "Data columns (total 81 columns):\n",
      "Id                 2051 non-null int64\n",
      "PID                2051 non-null int64\n",
      "MS SubClass        2051 non-null int64\n",
      "MS Zoning          2051 non-null object\n",
      "Lot Frontage       1721 non-null float64\n",
      "Lot Area           2051 non-null int64\n",
      "Street             2051 non-null object\n",
      "Alley              140 non-null object\n",
      "Lot Shape          2051 non-null object\n",
      "Land Contour       2051 non-null object\n",
      "Utilities          2051 non-null object\n",
      "Lot Config         2051 non-null object\n",
      "Land Slope         2051 non-null object\n",
      "Neighborhood       2051 non-null object\n",
      "Condition 1        2051 non-null object\n",
      "Condition 2        2051 non-null object\n",
      "Bldg Type          2051 non-null object\n",
      "House Style        2051 non-null object\n",
      "Overall Qual       2051 non-null int64\n",
      "Overall Cond       2051 non-null int64\n",
      "Year Built         2051 non-null int64\n",
      "Year Remod/Add     2051 non-null int64\n",
      "Roof Style         2051 non-null object\n",
      "Roof Matl          2051 non-null object\n",
      "Exterior 1st       2051 non-null object\n",
      "Exterior 2nd       2051 non-null object\n",
      "Mas Vnr Type       2029 non-null object\n",
      "Mas Vnr Area       2029 non-null float64\n",
      "Exter Qual         2051 non-null object\n",
      "Exter Cond         2051 non-null object\n",
      "Foundation         2051 non-null object\n",
      "Bsmt Qual          1996 non-null object\n",
      "Bsmt Cond          1996 non-null object\n",
      "Bsmt Exposure      1993 non-null object\n",
      "BsmtFin Type 1     1996 non-null object\n",
      "BsmtFin SF 1       2050 non-null float64\n",
      "BsmtFin Type 2     1995 non-null object\n",
      "BsmtFin SF 2       2050 non-null float64\n",
      "Bsmt Unf SF        2050 non-null float64\n",
      "Total Bsmt SF      2050 non-null float64\n",
      "Heating            2051 non-null object\n",
      "Heating QC         2051 non-null object\n",
      "Central Air        2051 non-null object\n",
      "Electrical         2051 non-null object\n",
      "1st Flr SF         2051 non-null int64\n",
      "2nd Flr SF         2051 non-null int64\n",
      "Low Qual Fin SF    2051 non-null int64\n",
      "Gr Liv Area        2051 non-null int64\n",
      "Bsmt Full Bath     2049 non-null float64\n",
      "Bsmt Half Bath     2049 non-null float64\n",
      "Full Bath          2051 non-null int64\n",
      "Half Bath          2051 non-null int64\n",
      "Bedroom AbvGr      2051 non-null int64\n",
      "Kitchen AbvGr      2051 non-null int64\n",
      "Kitchen Qual       2051 non-null object\n",
      "TotRms AbvGrd      2051 non-null int64\n",
      "Functional         2051 non-null object\n",
      "Fireplaces         2051 non-null int64\n",
      "Fireplace Qu       1051 non-null object\n",
      "Garage Type        1938 non-null object\n",
      "Garage Yr Blt      1937 non-null float64\n",
      "Garage Finish      1937 non-null object\n",
      "Garage Cars        2050 non-null float64\n",
      "Garage Area        2050 non-null float64\n",
      "Garage Qual        1937 non-null object\n",
      "Garage Cond        1937 non-null object\n",
      "Paved Drive        2051 non-null object\n",
      "Wood Deck SF       2051 non-null int64\n",
      "Open Porch SF      2051 non-null int64\n",
      "Enclosed Porch     2051 non-null int64\n",
      "3Ssn Porch         2051 non-null int64\n",
      "Screen Porch       2051 non-null int64\n",
      "Pool Area          2051 non-null int64\n",
      "Pool QC            9 non-null object\n",
      "Fence              400 non-null object\n",
      "Misc Feature       65 non-null object\n",
      "Misc Val           2051 non-null int64\n",
      "Mo Sold            2051 non-null int64\n",
      "Yr Sold            2051 non-null int64\n",
      "Sale Type          2051 non-null object\n",
      "SalePrice          2051 non-null int64\n",
      "dtypes: float64(11), int64(28), object(42)\n",
      "memory usage: 1.3+ MB\n"
     ]
    }
   ],
   "source": [
    "df.info()"
   ]
  },
  {
   "cell_type": "code",
   "execution_count": 81,
   "metadata": {},
   "outputs": [],
   "source": [
    "features = ['Lot Area', 'Overall Qual', 'Pool Area', 'Garage Area']\n",
    "X = df[features]"
   ]
  },
  {
   "cell_type": "code",
   "execution_count": 82,
   "metadata": {},
   "outputs": [
    {
     "data": {
      "text/html": [
       "<div>\n",
       "<style scoped>\n",
       "    .dataframe tbody tr th:only-of-type {\n",
       "        vertical-align: middle;\n",
       "    }\n",
       "\n",
       "    .dataframe tbody tr th {\n",
       "        vertical-align: top;\n",
       "    }\n",
       "\n",
       "    .dataframe thead th {\n",
       "        text-align: right;\n",
       "    }\n",
       "</style>\n",
       "<table border=\"1\" class=\"dataframe\">\n",
       "  <thead>\n",
       "    <tr style=\"text-align: right;\">\n",
       "      <th></th>\n",
       "      <th>Lot Area</th>\n",
       "      <th>Overall Qual</th>\n",
       "      <th>Pool Area</th>\n",
       "      <th>Garage Area</th>\n",
       "    </tr>\n",
       "  </thead>\n",
       "  <tbody>\n",
       "    <tr>\n",
       "      <th>0</th>\n",
       "      <td>13517</td>\n",
       "      <td>6</td>\n",
       "      <td>0</td>\n",
       "      <td>475.0</td>\n",
       "    </tr>\n",
       "    <tr>\n",
       "      <th>1</th>\n",
       "      <td>11492</td>\n",
       "      <td>7</td>\n",
       "      <td>0</td>\n",
       "      <td>559.0</td>\n",
       "    </tr>\n",
       "    <tr>\n",
       "      <th>2</th>\n",
       "      <td>7922</td>\n",
       "      <td>5</td>\n",
       "      <td>0</td>\n",
       "      <td>246.0</td>\n",
       "    </tr>\n",
       "    <tr>\n",
       "      <th>3</th>\n",
       "      <td>9802</td>\n",
       "      <td>5</td>\n",
       "      <td>0</td>\n",
       "      <td>400.0</td>\n",
       "    </tr>\n",
       "    <tr>\n",
       "      <th>4</th>\n",
       "      <td>14235</td>\n",
       "      <td>6</td>\n",
       "      <td>0</td>\n",
       "      <td>484.0</td>\n",
       "    </tr>\n",
       "  </tbody>\n",
       "</table>\n",
       "</div>"
      ],
      "text/plain": [
       "   Lot Area  Overall Qual  Pool Area  Garage Area\n",
       "0     13517             6          0        475.0\n",
       "1     11492             7          0        559.0\n",
       "2      7922             5          0        246.0\n",
       "3      9802             5          0        400.0\n",
       "4     14235             6          0        484.0"
      ]
     },
     "execution_count": 82,
     "metadata": {},
     "output_type": "execute_result"
    }
   ],
   "source": [
    "X.head()"
   ]
  },
  {
   "cell_type": "code",
   "execution_count": 83,
   "metadata": {},
   "outputs": [],
   "source": [
    "y = df['SalePrice']"
   ]
  },
  {
   "cell_type": "markdown",
   "metadata": {},
   "source": [
    "Let's Train Test Split"
   ]
  },
  {
   "cell_type": "code",
   "execution_count": 84,
   "metadata": {},
   "outputs": [],
   "source": [
    "from sklearn.model_selection import train_test_split"
   ]
  },
  {
   "cell_type": "code",
   "execution_count": 85,
   "metadata": {},
   "outputs": [],
   "source": [
    "X_train, X_test, y_train, y_test = train_test_split(X,y)"
   ]
  },
  {
   "cell_type": "code",
   "execution_count": 86,
   "metadata": {},
   "outputs": [
    {
     "name": "stdout",
     "output_type": "stream",
     "text": [
      "(1538, 4)\n",
      "(513, 4)\n"
     ]
    }
   ],
   "source": [
    "print(X_train.shape)\n",
    "print(X_test.shape)"
   ]
  },
  {
   "cell_type": "code",
   "execution_count": 87,
   "metadata": {},
   "outputs": [],
   "source": [
    "from sklearn.model_selection import cross_val_score\n",
    "from sklearn.linear_model import LinearRegression"
   ]
  },
  {
   "cell_type": "code",
   "execution_count": 88,
   "metadata": {},
   "outputs": [],
   "source": [
    "# Instantiate\n",
    "linreg = LinearRegression()"
   ]
  },
  {
   "cell_type": "code",
   "execution_count": 89,
   "metadata": {},
   "outputs": [
    {
     "data": {
      "text/plain": [
       "array([0.65393301, 0.72238085, 0.73367685])"
      ]
     },
     "execution_count": 89,
     "metadata": {},
     "output_type": "execute_result"
    }
   ],
   "source": [
    "cross_val_score(linreg, X_train, y_train, cv=3)"
   ]
  },
  {
   "cell_type": "code",
   "execution_count": 90,
   "metadata": {},
   "outputs": [
    {
     "data": {
      "text/plain": [
       "LinearRegression(copy_X=True, fit_intercept=True, n_jobs=None,\n",
       "         normalize=False)"
      ]
     },
     "execution_count": 90,
     "metadata": {},
     "output_type": "execute_result"
    }
   ],
   "source": [
    "# Fit it!\n",
    "linreg.fit(X_train, y_train)"
   ]
  },
  {
   "cell_type": "code",
   "execution_count": 91,
   "metadata": {},
   "outputs": [
    {
     "ename": "ValueError",
     "evalue": "Input contains NaN, infinity or a value too large for dtype('float64').",
     "output_type": "error",
     "traceback": [
      "\u001b[1;31m---------------------------------------------------------------------------\u001b[0m",
      "\u001b[1;31mValueError\u001b[0m                                Traceback (most recent call last)",
      "\u001b[1;32m<ipython-input-91-fd0847d97aae>\u001b[0m in \u001b[0;36m<module>\u001b[1;34m\u001b[0m\n\u001b[1;32m----> 1\u001b[1;33m \u001b[0mlinreg\u001b[0m\u001b[1;33m.\u001b[0m\u001b[0mscore\u001b[0m\u001b[1;33m(\u001b[0m\u001b[0mX_test\u001b[0m\u001b[1;33m,\u001b[0m \u001b[0my_test\u001b[0m\u001b[1;33m)\u001b[0m\u001b[1;33m\u001b[0m\u001b[1;33m\u001b[0m\u001b[0m\n\u001b[0m",
      "\u001b[1;32m~\\Anaconda3\\lib\\site-packages\\sklearn\\base.py\u001b[0m in \u001b[0;36mscore\u001b[1;34m(self, X, y, sample_weight)\u001b[0m\n\u001b[0;32m    326\u001b[0m \u001b[1;33m\u001b[0m\u001b[0m\n\u001b[0;32m    327\u001b[0m         \u001b[1;32mfrom\u001b[0m \u001b[1;33m.\u001b[0m\u001b[0mmetrics\u001b[0m \u001b[1;32mimport\u001b[0m \u001b[0mr2_score\u001b[0m\u001b[1;33m\u001b[0m\u001b[1;33m\u001b[0m\u001b[0m\n\u001b[1;32m--> 328\u001b[1;33m         return r2_score(y, self.predict(X), sample_weight=sample_weight,\n\u001b[0m\u001b[0;32m    329\u001b[0m                         multioutput='variance_weighted')\n\u001b[0;32m    330\u001b[0m \u001b[1;33m\u001b[0m\u001b[0m\n",
      "\u001b[1;32m~\\Anaconda3\\lib\\site-packages\\sklearn\\linear_model\\base.py\u001b[0m in \u001b[0;36mpredict\u001b[1;34m(self, X)\u001b[0m\n\u001b[0;32m    211\u001b[0m             \u001b[0mReturns\u001b[0m \u001b[0mpredicted\u001b[0m \u001b[0mvalues\u001b[0m\u001b[1;33m.\u001b[0m\u001b[1;33m\u001b[0m\u001b[1;33m\u001b[0m\u001b[0m\n\u001b[0;32m    212\u001b[0m         \"\"\"\n\u001b[1;32m--> 213\u001b[1;33m         \u001b[1;32mreturn\u001b[0m \u001b[0mself\u001b[0m\u001b[1;33m.\u001b[0m\u001b[0m_decision_function\u001b[0m\u001b[1;33m(\u001b[0m\u001b[0mX\u001b[0m\u001b[1;33m)\u001b[0m\u001b[1;33m\u001b[0m\u001b[1;33m\u001b[0m\u001b[0m\n\u001b[0m\u001b[0;32m    214\u001b[0m \u001b[1;33m\u001b[0m\u001b[0m\n\u001b[0;32m    215\u001b[0m     \u001b[0m_preprocess_data\u001b[0m \u001b[1;33m=\u001b[0m \u001b[0mstaticmethod\u001b[0m\u001b[1;33m(\u001b[0m\u001b[0m_preprocess_data\u001b[0m\u001b[1;33m)\u001b[0m\u001b[1;33m\u001b[0m\u001b[1;33m\u001b[0m\u001b[0m\n",
      "\u001b[1;32m~\\Anaconda3\\lib\\site-packages\\sklearn\\linear_model\\base.py\u001b[0m in \u001b[0;36m_decision_function\u001b[1;34m(self, X)\u001b[0m\n\u001b[0;32m    194\u001b[0m         \u001b[0mcheck_is_fitted\u001b[0m\u001b[1;33m(\u001b[0m\u001b[0mself\u001b[0m\u001b[1;33m,\u001b[0m \u001b[1;34m\"coef_\"\u001b[0m\u001b[1;33m)\u001b[0m\u001b[1;33m\u001b[0m\u001b[1;33m\u001b[0m\u001b[0m\n\u001b[0;32m    195\u001b[0m \u001b[1;33m\u001b[0m\u001b[0m\n\u001b[1;32m--> 196\u001b[1;33m         \u001b[0mX\u001b[0m \u001b[1;33m=\u001b[0m \u001b[0mcheck_array\u001b[0m\u001b[1;33m(\u001b[0m\u001b[0mX\u001b[0m\u001b[1;33m,\u001b[0m \u001b[0maccept_sparse\u001b[0m\u001b[1;33m=\u001b[0m\u001b[1;33m[\u001b[0m\u001b[1;34m'csr'\u001b[0m\u001b[1;33m,\u001b[0m \u001b[1;34m'csc'\u001b[0m\u001b[1;33m,\u001b[0m \u001b[1;34m'coo'\u001b[0m\u001b[1;33m]\u001b[0m\u001b[1;33m)\u001b[0m\u001b[1;33m\u001b[0m\u001b[1;33m\u001b[0m\u001b[0m\n\u001b[0m\u001b[0;32m    197\u001b[0m         return safe_sparse_dot(X, self.coef_.T,\n\u001b[0;32m    198\u001b[0m                                dense_output=True) + self.intercept_\n",
      "\u001b[1;32m~\\Anaconda3\\lib\\site-packages\\sklearn\\utils\\validation.py\u001b[0m in \u001b[0;36mcheck_array\u001b[1;34m(array, accept_sparse, accept_large_sparse, dtype, order, copy, force_all_finite, ensure_2d, allow_nd, ensure_min_samples, ensure_min_features, warn_on_dtype, estimator)\u001b[0m\n\u001b[0;32m    566\u001b[0m         \u001b[1;32mif\u001b[0m \u001b[0mforce_all_finite\u001b[0m\u001b[1;33m:\u001b[0m\u001b[1;33m\u001b[0m\u001b[1;33m\u001b[0m\u001b[0m\n\u001b[0;32m    567\u001b[0m             _assert_all_finite(array,\n\u001b[1;32m--> 568\u001b[1;33m                                allow_nan=force_all_finite == 'allow-nan')\n\u001b[0m\u001b[0;32m    569\u001b[0m \u001b[1;33m\u001b[0m\u001b[0m\n\u001b[0;32m    570\u001b[0m     \u001b[0mshape_repr\u001b[0m \u001b[1;33m=\u001b[0m \u001b[0m_shape_repr\u001b[0m\u001b[1;33m(\u001b[0m\u001b[0marray\u001b[0m\u001b[1;33m.\u001b[0m\u001b[0mshape\u001b[0m\u001b[1;33m)\u001b[0m\u001b[1;33m\u001b[0m\u001b[1;33m\u001b[0m\u001b[0m\n",
      "\u001b[1;32m~\\Anaconda3\\lib\\site-packages\\sklearn\\utils\\validation.py\u001b[0m in \u001b[0;36m_assert_all_finite\u001b[1;34m(X, allow_nan)\u001b[0m\n\u001b[0;32m     54\u001b[0m                 not allow_nan and not np.isfinite(X).all()):\n\u001b[0;32m     55\u001b[0m             \u001b[0mtype_err\u001b[0m \u001b[1;33m=\u001b[0m \u001b[1;34m'infinity'\u001b[0m \u001b[1;32mif\u001b[0m \u001b[0mallow_nan\u001b[0m \u001b[1;32melse\u001b[0m \u001b[1;34m'NaN, infinity'\u001b[0m\u001b[1;33m\u001b[0m\u001b[1;33m\u001b[0m\u001b[0m\n\u001b[1;32m---> 56\u001b[1;33m             \u001b[1;32mraise\u001b[0m \u001b[0mValueError\u001b[0m\u001b[1;33m(\u001b[0m\u001b[0mmsg_err\u001b[0m\u001b[1;33m.\u001b[0m\u001b[0mformat\u001b[0m\u001b[1;33m(\u001b[0m\u001b[0mtype_err\u001b[0m\u001b[1;33m,\u001b[0m \u001b[0mX\u001b[0m\u001b[1;33m.\u001b[0m\u001b[0mdtype\u001b[0m\u001b[1;33m)\u001b[0m\u001b[1;33m)\u001b[0m\u001b[1;33m\u001b[0m\u001b[1;33m\u001b[0m\u001b[0m\n\u001b[0m\u001b[0;32m     57\u001b[0m \u001b[1;33m\u001b[0m\u001b[0m\n\u001b[0;32m     58\u001b[0m \u001b[1;33m\u001b[0m\u001b[0m\n",
      "\u001b[1;31mValueError\u001b[0m: Input contains NaN, infinity or a value too large for dtype('float64')."
     ]
    }
   ],
   "source": [
    "linreg.score(X_test, y_test)"
   ]
  },
  {
   "cell_type": "code",
   "execution_count": 92,
   "metadata": {},
   "outputs": [
    {
     "name": "stderr",
     "output_type": "stream",
     "text": [
      "C:\\Users\\Adiwid\\Anaconda3\\lib\\site-packages\\sklearn\\model_selection\\_split.py:1943: FutureWarning: You should specify a value for 'cv' instead of relying on the default value. The default value will change from 3 to 5 in version 0.22.\n",
      "  warnings.warn(CV_WARNING, FutureWarning)\n"
     ]
    },
    {
     "data": {
      "text/plain": [
       "0.7033302351766798"
      ]
     },
     "execution_count": 92,
     "metadata": {},
     "output_type": "execute_result"
    }
   ],
   "source": [
    "np.mean(cross_val_score(linreg, X_train, y_train))"
   ]
  },
  {
   "cell_type": "markdown",
   "metadata": {},
   "source": [
    "## Let's make predictions to submit to Kaggle! ##"
   ]
  },
  {
   "cell_type": "code",
   "execution_count": 93,
   "metadata": {},
   "outputs": [],
   "source": [
    "df_to_pred = pd.read_csv('./datasets/test.csv')"
   ]
  },
  {
   "cell_type": "code",
   "execution_count": 94,
   "metadata": {},
   "outputs": [
    {
     "data": {
      "text/html": [
       "<div>\n",
       "<style scoped>\n",
       "    .dataframe tbody tr th:only-of-type {\n",
       "        vertical-align: middle;\n",
       "    }\n",
       "\n",
       "    .dataframe tbody tr th {\n",
       "        vertical-align: top;\n",
       "    }\n",
       "\n",
       "    .dataframe thead th {\n",
       "        text-align: right;\n",
       "    }\n",
       "</style>\n",
       "<table border=\"1\" class=\"dataframe\">\n",
       "  <thead>\n",
       "    <tr style=\"text-align: right;\">\n",
       "      <th></th>\n",
       "      <th>Id</th>\n",
       "      <th>PID</th>\n",
       "      <th>MS SubClass</th>\n",
       "      <th>MS Zoning</th>\n",
       "      <th>Lot Frontage</th>\n",
       "      <th>Lot Area</th>\n",
       "      <th>Street</th>\n",
       "      <th>Alley</th>\n",
       "      <th>Lot Shape</th>\n",
       "      <th>Land Contour</th>\n",
       "      <th>...</th>\n",
       "      <th>3Ssn Porch</th>\n",
       "      <th>Screen Porch</th>\n",
       "      <th>Pool Area</th>\n",
       "      <th>Pool QC</th>\n",
       "      <th>Fence</th>\n",
       "      <th>Misc Feature</th>\n",
       "      <th>Misc Val</th>\n",
       "      <th>Mo Sold</th>\n",
       "      <th>Yr Sold</th>\n",
       "      <th>Sale Type</th>\n",
       "    </tr>\n",
       "  </thead>\n",
       "  <tbody>\n",
       "    <tr>\n",
       "      <th>0</th>\n",
       "      <td>2658</td>\n",
       "      <td>902301120</td>\n",
       "      <td>190</td>\n",
       "      <td>RM</td>\n",
       "      <td>69.0</td>\n",
       "      <td>9142</td>\n",
       "      <td>Pave</td>\n",
       "      <td>Grvl</td>\n",
       "      <td>Reg</td>\n",
       "      <td>Lvl</td>\n",
       "      <td>...</td>\n",
       "      <td>0</td>\n",
       "      <td>0</td>\n",
       "      <td>0</td>\n",
       "      <td>NaN</td>\n",
       "      <td>NaN</td>\n",
       "      <td>NaN</td>\n",
       "      <td>0</td>\n",
       "      <td>4</td>\n",
       "      <td>2006</td>\n",
       "      <td>WD</td>\n",
       "    </tr>\n",
       "    <tr>\n",
       "      <th>1</th>\n",
       "      <td>2718</td>\n",
       "      <td>905108090</td>\n",
       "      <td>90</td>\n",
       "      <td>RL</td>\n",
       "      <td>NaN</td>\n",
       "      <td>9662</td>\n",
       "      <td>Pave</td>\n",
       "      <td>NaN</td>\n",
       "      <td>IR1</td>\n",
       "      <td>Lvl</td>\n",
       "      <td>...</td>\n",
       "      <td>0</td>\n",
       "      <td>0</td>\n",
       "      <td>0</td>\n",
       "      <td>NaN</td>\n",
       "      <td>NaN</td>\n",
       "      <td>NaN</td>\n",
       "      <td>0</td>\n",
       "      <td>8</td>\n",
       "      <td>2006</td>\n",
       "      <td>WD</td>\n",
       "    </tr>\n",
       "    <tr>\n",
       "      <th>2</th>\n",
       "      <td>2414</td>\n",
       "      <td>528218130</td>\n",
       "      <td>60</td>\n",
       "      <td>RL</td>\n",
       "      <td>58.0</td>\n",
       "      <td>17104</td>\n",
       "      <td>Pave</td>\n",
       "      <td>NaN</td>\n",
       "      <td>IR1</td>\n",
       "      <td>Lvl</td>\n",
       "      <td>...</td>\n",
       "      <td>0</td>\n",
       "      <td>0</td>\n",
       "      <td>0</td>\n",
       "      <td>NaN</td>\n",
       "      <td>NaN</td>\n",
       "      <td>NaN</td>\n",
       "      <td>0</td>\n",
       "      <td>9</td>\n",
       "      <td>2006</td>\n",
       "      <td>New</td>\n",
       "    </tr>\n",
       "    <tr>\n",
       "      <th>3</th>\n",
       "      <td>1989</td>\n",
       "      <td>902207150</td>\n",
       "      <td>30</td>\n",
       "      <td>RM</td>\n",
       "      <td>60.0</td>\n",
       "      <td>8520</td>\n",
       "      <td>Pave</td>\n",
       "      <td>NaN</td>\n",
       "      <td>Reg</td>\n",
       "      <td>Lvl</td>\n",
       "      <td>...</td>\n",
       "      <td>0</td>\n",
       "      <td>0</td>\n",
       "      <td>0</td>\n",
       "      <td>NaN</td>\n",
       "      <td>NaN</td>\n",
       "      <td>NaN</td>\n",
       "      <td>0</td>\n",
       "      <td>7</td>\n",
       "      <td>2007</td>\n",
       "      <td>WD</td>\n",
       "    </tr>\n",
       "    <tr>\n",
       "      <th>4</th>\n",
       "      <td>625</td>\n",
       "      <td>535105100</td>\n",
       "      <td>20</td>\n",
       "      <td>RL</td>\n",
       "      <td>NaN</td>\n",
       "      <td>9500</td>\n",
       "      <td>Pave</td>\n",
       "      <td>NaN</td>\n",
       "      <td>IR1</td>\n",
       "      <td>Lvl</td>\n",
       "      <td>...</td>\n",
       "      <td>0</td>\n",
       "      <td>185</td>\n",
       "      <td>0</td>\n",
       "      <td>NaN</td>\n",
       "      <td>NaN</td>\n",
       "      <td>NaN</td>\n",
       "      <td>0</td>\n",
       "      <td>7</td>\n",
       "      <td>2009</td>\n",
       "      <td>WD</td>\n",
       "    </tr>\n",
       "  </tbody>\n",
       "</table>\n",
       "<p>5 rows × 80 columns</p>\n",
       "</div>"
      ],
      "text/plain": [
       "     Id        PID  MS SubClass MS Zoning  Lot Frontage  Lot Area Street  \\\n",
       "0  2658  902301120          190        RM          69.0      9142   Pave   \n",
       "1  2718  905108090           90        RL           NaN      9662   Pave   \n",
       "2  2414  528218130           60        RL          58.0     17104   Pave   \n",
       "3  1989  902207150           30        RM          60.0      8520   Pave   \n",
       "4   625  535105100           20        RL           NaN      9500   Pave   \n",
       "\n",
       "  Alley Lot Shape Land Contour    ...     3Ssn Porch Screen Porch Pool Area  \\\n",
       "0  Grvl       Reg          Lvl    ...              0            0         0   \n",
       "1   NaN       IR1          Lvl    ...              0            0         0   \n",
       "2   NaN       IR1          Lvl    ...              0            0         0   \n",
       "3   NaN       Reg          Lvl    ...              0            0         0   \n",
       "4   NaN       IR1          Lvl    ...              0          185         0   \n",
       "\n",
       "  Pool QC Fence Misc Feature Misc Val Mo Sold  Yr Sold  Sale Type  \n",
       "0     NaN   NaN          NaN        0       4     2006        WD   \n",
       "1     NaN   NaN          NaN        0       8     2006        WD   \n",
       "2     NaN   NaN          NaN        0       9     2006        New  \n",
       "3     NaN   NaN          NaN        0       7     2007        WD   \n",
       "4     NaN   NaN          NaN        0       7     2009        WD   \n",
       "\n",
       "[5 rows x 80 columns]"
      ]
     },
     "execution_count": 94,
     "metadata": {},
     "output_type": "execute_result"
    }
   ],
   "source": [
    "df_to_pred.head()"
   ]
  },
  {
   "cell_type": "code",
   "execution_count": 95,
   "metadata": {},
   "outputs": [
    {
     "data": {
      "text/plain": [
       "{'SalePrice'}"
      ]
     },
     "execution_count": 95,
     "metadata": {},
     "output_type": "execute_result"
    }
   ],
   "source": [
    "set(df.columns) - set(df_to_pred.columns)"
   ]
  },
  {
   "cell_type": "code",
   "execution_count": 96,
   "metadata": {},
   "outputs": [],
   "source": [
    "X_holdout = df_to_pred[features]"
   ]
  },
  {
   "cell_type": "code",
   "execution_count": 97,
   "metadata": {},
   "outputs": [
    {
     "data": {
      "text/html": [
       "<div>\n",
       "<style scoped>\n",
       "    .dataframe tbody tr th:only-of-type {\n",
       "        vertical-align: middle;\n",
       "    }\n",
       "\n",
       "    .dataframe tbody tr th {\n",
       "        vertical-align: top;\n",
       "    }\n",
       "\n",
       "    .dataframe thead th {\n",
       "        text-align: right;\n",
       "    }\n",
       "</style>\n",
       "<table border=\"1\" class=\"dataframe\">\n",
       "  <thead>\n",
       "    <tr style=\"text-align: right;\">\n",
       "      <th></th>\n",
       "      <th>Lot Area</th>\n",
       "      <th>Overall Qual</th>\n",
       "      <th>Pool Area</th>\n",
       "      <th>Garage Area</th>\n",
       "    </tr>\n",
       "  </thead>\n",
       "  <tbody>\n",
       "    <tr>\n",
       "      <th>0</th>\n",
       "      <td>9142</td>\n",
       "      <td>6</td>\n",
       "      <td>0</td>\n",
       "      <td>440</td>\n",
       "    </tr>\n",
       "    <tr>\n",
       "      <th>1</th>\n",
       "      <td>9662</td>\n",
       "      <td>5</td>\n",
       "      <td>0</td>\n",
       "      <td>580</td>\n",
       "    </tr>\n",
       "    <tr>\n",
       "      <th>2</th>\n",
       "      <td>17104</td>\n",
       "      <td>7</td>\n",
       "      <td>0</td>\n",
       "      <td>426</td>\n",
       "    </tr>\n",
       "    <tr>\n",
       "      <th>3</th>\n",
       "      <td>8520</td>\n",
       "      <td>5</td>\n",
       "      <td>0</td>\n",
       "      <td>480</td>\n",
       "    </tr>\n",
       "    <tr>\n",
       "      <th>4</th>\n",
       "      <td>9500</td>\n",
       "      <td>6</td>\n",
       "      <td>0</td>\n",
       "      <td>514</td>\n",
       "    </tr>\n",
       "  </tbody>\n",
       "</table>\n",
       "</div>"
      ],
      "text/plain": [
       "   Lot Area  Overall Qual  Pool Area  Garage Area\n",
       "0      9142             6          0          440\n",
       "1      9662             5          0          580\n",
       "2     17104             7          0          426\n",
       "3      8520             5          0          480\n",
       "4      9500             6          0          514"
      ]
     },
     "execution_count": 97,
     "metadata": {},
     "output_type": "execute_result"
    }
   ],
   "source": [
    "X_holdout.head()"
   ]
  },
  {
   "cell_type": "code",
   "execution_count": 98,
   "metadata": {},
   "outputs": [
    {
     "data": {
      "text/plain": [
       "array([173782.30985707, 150973.79306165, 222567.24701649, 139940.3363333 ,\n",
       "       181112.04495675,  74561.50110185,  87917.39580666, 120560.98423995,\n",
       "       213973.61486714, 178462.48330319, 174403.49156322, 159562.24251349,\n",
       "       178497.33285042, 242676.87225151, 160079.68281767, 120173.54240139,\n",
       "       211838.31346469, 129036.16675344, 174628.0443142 , 259763.68825023,\n",
       "       120411.68761728, 162775.03711496, 180285.47878867, 203963.27939443,\n",
       "       223324.89132682, 126026.25029738, 100215.0356885 , 118981.60068798,\n",
       "       176826.274227  ,  14959.24250758, 120025.86628425, 104980.35809032,\n",
       "       253054.38804272, 138756.53915746, 228905.19909275, 218422.49289749,\n",
       "        69530.73384143, 102542.16511705, 134588.12669125, 223856.40962248,\n",
       "       172869.74233546, 212923.5421623 , 151068.67103136, 132867.96550304,\n",
       "       208000.1332027 ,  47993.04849316, 229049.20402389, 122369.79262745,\n",
       "       119783.73324332, 122581.54333414, 112473.65756561, 263049.95860349,\n",
       "       285423.02839397, 121068.91571434, 121099.10775486, 171704.52442198,\n",
       "       191999.16493131, 141988.56391267, 219449.14622961, 248412.81651703,\n",
       "       296133.45068671, 140188.6245638 , 132876.69906731, 219588.92644492,\n",
       "       174365.77598602, 283384.60135456,  59294.00689919, 182135.39946801,\n",
       "        16279.28770974, 163882.32649943, 103270.5808624 , 289022.33488413,\n",
       "       214505.7862504 , 209554.42819565, 126854.22030943, 192377.09244622,\n",
       "       412764.38290867, 149552.14040891, 158439.99989453, 122749.28374481,\n",
       "       326872.37610333, 217410.33155743, 190568.88066297, 118436.78921513,\n",
       "       108331.32558549, 194843.30395687, 338919.5639128 , 138520.44515427,\n",
       "       191388.07755899, 265941.75274323, 184277.16512153, 119030.54701696,\n",
       "       100388.24281679, 151787.39886592, 241833.53500439, 112600.7524207 ,\n",
       "       169028.40641704, 127402.54518098, 255761.96998046, 189567.49652233,\n",
       "       253308.703566  , 274445.05729426, 191614.85654876, 117647.07107131,\n",
       "       353416.39818411, 169222.63165315,  88422.53629969, 169469.37495896,\n",
       "       212002.98645145, 189543.63117482,  63833.59091909, 183582.68060598,\n",
       "       257211.19883098, 100444.8161826 , 111286.74780775, 228997.21663885,\n",
       "       398346.1441394 , 155839.86657384, 125159.97007506, 322717.12891752,\n",
       "       177938.20441161, 383977.8698815 , 278297.70109676, 288282.57159042,\n",
       "       177166.66471347,  95933.72304272, 339254.58909809, 124297.95775551,\n",
       "       118849.59616777, 123452.70882493, 338310.23748197, 130197.10160906,\n",
       "       176515.09154405, 144581.06667388, 166274.41841223, 162018.47845808,\n",
       "       200817.15798645, 226479.71224117, 229268.52342538, 182131.97077918,\n",
       "       125659.91688287, 195574.63089032, 120210.78563597, 155472.2946802 ,\n",
       "       216623.22739769,  95571.35252437, 131095.74176866, 184328.59545408,\n",
       "       163999.42502699,  80397.51713481, 230021.41794158, 225823.82964606,\n",
       "       166329.2322755 , 127753.12933402, 121345.85666704, 119019.31626519,\n",
       "       118036.64125489,  48622.21289471, 161782.83603605, 252683.86946413,\n",
       "       288964.04914509, 186782.00294926, 123725.19169367, 121225.32187309,\n",
       "       356431.65192764, 287407.69327818, 277278.86301149, 193930.63854148,\n",
       "       199734.46955074, 219988.97090502, 213953.25534078, 349732.23607128,\n",
       "       139172.31003386, 149712.27454422, 202507.25700212, 210272.01400592,\n",
       "       174886.34766251, 110631.79868516, 149071.96410077,  74568.35847952,\n",
       "       124724.53219916,  98638.31468887, 215662.51506795, 231667.7512421 ,\n",
       "       210069.94154876, 178941.9822396 , 159120.65297067, 206254.52219055,\n",
       "       196530.98644002, 134788.43964587,  74375.20230281, 219885.74139743,\n",
       "       108836.47926243, 160736.08291354, 117722.97456835, 171393.949556  ,\n",
       "       173758.63271958, 287017.42704511, 120977.09759099, 132698.71774825,\n",
       "       157048.95173143, 308182.80794442, 204590.01044436, 166441.96500652,\n",
       "       180027.6929411 , 162473.95020479,  95826.07500293, 163660.46475233,\n",
       "       159634.95629619, 245958.72001766, 203828.31292164, 173914.89022006,\n",
       "       182820.26968242,  72785.25207438, 570145.0020209 , 278365.07594612,\n",
       "       214708.98391276, 236762.47235311, 182155.39928091,  54210.97569866,\n",
       "       120584.89474557, 206908.71680908, 182417.10142757, 174108.72782341,\n",
       "       174899.05939057, 167914.9237302 , 152561.68999368, 280974.53041883,\n",
       "       223143.37781877, 134799.77950415, 252765.50502112, 115286.31333585,\n",
       "        47921.04602759,  75375.43267418,  91593.22876594, 293214.50371849,\n",
       "       177635.93592539, 111031.24093465, 320266.56669085, 329729.7443577 ,\n",
       "       204127.04713516, 279919.65154902, 180529.25817073, 271095.49364306,\n",
       "       219103.26265769, 317752.45143026, 287493.33545049, 186036.88412815,\n",
       "        94052.49818905, 174122.79823732, 296797.65636817, 245458.70729027,\n",
       "       154358.91549351, 250129.86864587, 226470.10551759, 190093.93573312,\n",
       "        42866.06742236,  60451.1893816 , 326494.60493676, 215614.14458175,\n",
       "       194230.55092091, 209887.21801312, 163729.34145196, 145376.6954264 ,\n",
       "       181019.72251657, 232752.58120674, 174989.90085446, 122853.85875433,\n",
       "       209126.89027646, 180833.70016007, 172124.31301391, 176442.99876225,\n",
       "       224236.41824058, 219201.8930006 , 307188.24920725, 109706.40483514,\n",
       "       142100.82990743, 163897.7555992 , 162834.5140913 , 132231.99645949,\n",
       "       123156.41137316, 281531.23319609, 175317.35942866, 100134.93736612,\n",
       "       125398.21121355, 168395.83969449, 248326.17142994, 179238.77643064,\n",
       "       145484.69912476, 166278.33262761, 152269.89578399, 118467.29736246,\n",
       "       181400.32016137,  74561.50110185, 120998.31709274, 158347.60240575,\n",
       "       163882.32649943, 225915.17542678, 228877.16176508, 252576.13463076,\n",
       "       189083.52071168, 175062.68616311, 298964.70439708, 137807.27787622,\n",
       "       144538.55811562, 113233.46219515,  97199.97972184, 412065.15476794,\n",
       "       226256.09099154, 122722.77255154, 132099.58354504, 139553.46275996,\n",
       "       252243.64970738, 235568.7655308 , 268286.45280047,  57708.23831218,\n",
       "       322618.93894304, 299809.1836685 , 249646.86388832, 208497.31187432,\n",
       "       125743.38346834,  56062.46767053, 131030.53833872, 118295.68228816,\n",
       "       291851.40596234, 148568.21218409, 166558.06247798, 165318.35457269,\n",
       "       199675.87134006, 198485.28073495, 119229.08728512, 142950.88697417,\n",
       "       180047.29402103, 137522.8189932 , 241360.84828754, 151738.80467285,\n",
       "       187194.62718572, 122424.28280636,  69691.50579672, 159954.53567513,\n",
       "       242492.31560368, 201017.98503167,  99144.0462923 , 128727.82373263,\n",
       "       180643.09742918, 274785.72070061, 257366.79017246, 175153.47489133,\n",
       "       121977.50507217, 216169.81796389, 149108.82530894, 164615.06640587,\n",
       "       170453.05299656, 145016.68309854, 253822.47620685, 107178.34145107,\n",
       "       225098.76545723, 192924.55173602, 230484.96467111, 266612.21764664,\n",
       "        96342.80751265, 156227.55090955, 133143.15464328, 116334.00553726,\n",
       "       182034.97973208, 253856.70475318, 247958.91397913, 232303.91266308,\n",
       "       160389.87213459, 214388.75716508,  38903.00744387, 217072.60218435,\n",
       "       153363.28978066, 188539.67832074, 313468.83541337, 154358.91549351,\n",
       "       281847.2088601 , 187287.20178431, 241319.9110218 , 220076.17667978,\n",
       "       113172.42513902, 172832.51031361, 199884.96862344, 327705.45717444,\n",
       "       274836.45850631, 214326.31626498, 177643.22048758, 147479.31176825,\n",
       "       220369.30673015, 154903.37899786, 133818.12070506, 113693.13986741,\n",
       "       242059.79857712, 175777.50944355, 120365.73926997, 239575.33148848,\n",
       "        51022.29508046, 172124.84930493, 174871.99872235, 146479.19599723,\n",
       "       153081.66559816, 256442.82247934, 229361.97118328, 111819.51568274,\n",
       "       292503.85986862, 131997.07293213, 122621.9047571 , 132979.77431027,\n",
       "       226585.17359392, 276518.25674859, 170606.98481299, 116510.98788393,\n",
       "       137677.40170102, 215843.75004975, 124240.03888776, 258592.84374814,\n",
       "       273260.35498492, 146578.52250216, 236626.3805626 , 115641.4652116 ,\n",
       "       148197.91939608, 187728.06890979, 132312.99025411, 227161.94835479,\n",
       "       146391.35395396, 254584.04242264, 366430.85465488, 241398.56386475,\n",
       "       218803.63441087, 202255.66797957, 310388.75312658, 107605.27155328,\n",
       "       159065.74879116, 150504.47669161, 211328.89135275,  89846.02009343,\n",
       "       292773.56141725, 209245.25156728, 208661.87223191, 207221.76249472,\n",
       "       193699.202045  , 212264.25724618, 128383.5641889 , 150244.48888937,\n",
       "       187016.36381775, 188936.13224981, 165814.40595539,  28296.48290143,\n",
       "        72088.03139684, 250480.83338635, 146390.05008748, 222721.56438198,\n",
       "       284953.6536819 , 209431.0801074 , 207548.67159397, 224327.1749946 ,\n",
       "       256786.70757423, 215959.93783744, 121484.36290637, 254125.29416801,\n",
       "       128319.33181206, 162657.36626728, 123740.44016097, 172301.48512206,\n",
       "       376228.51363844,  93526.7834793 , 214193.56087588, 230856.14183116,\n",
       "       224143.25461529, 154437.00567759, 119983.72251358, 143249.96574605,\n",
       "       252305.11603173, 170387.68772444, 120585.45740444, 245386.33806592,\n",
       "       254484.44652048, 129403.59911784, 142203.41962383, 137506.10273353,\n",
       "       171756.97657211,  91399.37797868, 235145.32245946,  84398.96994972,\n",
       "       206201.02185502, 246336.3537387 , 168799.3636079 , 163902.89863245,\n",
       "       182418.71787821, 183581.27115564, 176100.12987857, 132292.47085676,\n",
       "       231255.48815805, 168500.29801994, 216307.31556956, 314633.37959028,\n",
       "       195970.37702493,  98742.88969839, 111660.4053362 , 148858.32402356,\n",
       "       113049.25976693, 175153.81736598, 255275.16011404, 222048.3765005 ,\n",
       "       179807.48719639, 186034.17994036, 124265.56023766, 249042.23659965,\n",
       "       150780.90366623, 116833.87718394, 299443.41696775,  84409.08515754,\n",
       "       125406.83567131, 142400.00657309, 147975.81867449,  12041.4435751 ,\n",
       "       175308.07638944, 146965.00844273, 208224.21361105, 286570.33881047,\n",
       "       260448.92170075, 116222.45085963, 144538.55811562, 204940.71919657,\n",
       "       133336.33158146, 219784.58947039, 345166.96218044, 241155.12695733,\n",
       "        98614.31386701, 120917.77487927, -18189.42455404, 189500.78366457,\n",
       "       166620.52216836, 177249.86595661, 223015.70151454, 117952.99403695,\n",
       "       182977.57536832,  47981.04808224, 221749.79643909, 173939.00980969,\n",
       "       171604.6013128 , 173223.43357667,  86811.11297214,  73853.47685705,\n",
       "       171428.15931206, 226117.66188453, 290870.38695442, 224208.76854567,\n",
       "       123363.46502139, 147194.84519516, 294902.53821039, 126659.47757258,\n",
       "       254379.69648486, 107146.77545707, 179796.26974105, 225903.82799094,\n",
       "        89293.42326423, 112363.46157384, 162066.48010179, 165652.88862507,\n",
       "       175663.85081755, 123911.34391814, 218192.21566412, 184745.73062269,\n",
       "       149778.42265941, 165040.8676677 , 125495.9288454 , 104180.79019352,\n",
       "       175657.27954368, 178485.9346501 , 186361.55929853, 164387.85318626,\n",
       "       119282.08330383,  85396.06750984, 153447.59205739, 180829.87626092,\n",
       "       147874.77937661, 185022.72991743, 163882.32649943, 168438.67402082,\n",
       "       139601.60745558, 235393.56606408, 135209.93500466, 248311.64382851,\n",
       "       106150.38569143, 163645.90123432, 173109.29700169, 154245.17621254,\n",
       "       106685.61328587, 258126.42538227, 222388.50361582, 151454.70144839,\n",
       "        93296.41748117, 136656.42208682, 119228.46628423, 321854.62546505,\n",
       "       247563.05116045,  92056.94646667, 167143.06440258, 143125.29094613,\n",
       "       315023.15677415, 113342.44255297, 229049.20402389, 141933.11586459,\n",
       "       201774.7992571 , 220327.62265042, 118083.99552987, 144332.83678541,\n",
       "       107412.74747768, 177788.37710428, 115260.43829858, 102651.59497232,\n",
       "       303548.19169018, 220132.93067805, 140545.20820282, 184277.16512153,\n",
       "       -16955.0965728 , 205778.34844284, 267731.27055125,  57163.07678713,\n",
       "       204171.59372221, 224479.70648973, 131012.41823508, 115895.78073488,\n",
       "       124210.17053161, 156415.94816311, 153348.12810693, 218643.78637936,\n",
       "       138853.69413045, 254683.31047301, 140586.71165008, 152440.9218316 ,\n",
       "       165193.92226993, 139058.43122365,  41188.58421215, 134762.72447959,\n",
       "       163218.51955095, 156987.94456579, 178933.92801825, 126242.23132626,\n",
       "       161927.76894587, 332276.3397623 , 144673.81629857, 183994.12326639,\n",
       "       275357.38023501, 176694.26970679,  82102.63685601, 265780.24310297,\n",
       "       202918.28566193, 172124.31301391, 206050.14086843, 138786.16853912,\n",
       "       120615.04162798, 118120.28847282, 176639.76634396,  46367.18590923,\n",
       "       178439.64735081, 208028.77834735, 165251.73763753, 220991.80404774,\n",
       "       231485.76186876, 187184.22091249, 194214.29219263, 183587.7652972 ,\n",
       "       232059.8769552 , 327540.88011027, 250407.38191869, 134743.86669099,\n",
       "       175118.78718629, 168333.65864287, 289385.82303013, 259165.55146794,\n",
       "       223412.78962843, 222623.9634342 , 115570.05529539,  99670.35002874,\n",
       "       143728.00249645, 126832.48330693,  74705.50603299, 184375.87062556,\n",
       "       126060.53718575, 295838.21460427, 220793.9750967 , 176466.61755771,\n",
       "       286270.62585378, 182737.80612424, 174658.23635472, 184290.98337702,\n",
       "       324226.58561326, 132766.54823366, 194853.3642328 ,  51553.47298517,\n",
       "       124363.73702822, 221308.5042128 , 160295.50958193, 204005.78784017,\n",
       "       183416.37601348, 236133.67118767, 282102.05154538,  97800.00026828,\n",
       "       254780.58773643, 163902.89863245,  98337.80976008, 187863.27632827,\n",
       "       167947.42122554, 224708.0435881 , 221089.83218004, 186523.3571263 ,\n",
       "       117287.41440202, 124240.96686645, 313396.2439211 , 222924.20707555,\n",
       "        53004.07722812, 123640.47750004, 136113.79532983, 112124.22301442,\n",
       "       229023.33834068, 256456.07258213, 239086.32724493, 168849.80409708,\n",
       "       262885.13707098, 212995.20215323, 265870.999857  , 125913.87322492,\n",
       "       108610.76164198, 291307.84209764, 157906.21425686, 224355.09563821,\n",
       "       123217.75892974, 298563.53670296,  78393.15119318, 255898.30832302,\n",
       "       176698.98555553, 263864.71817702, 181970.25216743, 189338.89616533,\n",
       "       149532.09335419, 176067.59897008, 185459.6675599 , 156561.07841198,\n",
       "       128473.33109955, 224632.55409166, 143361.7537918 , 129484.5553319 ,\n",
       "       124483.74113751, 173035.21134922, 138981.49272512, 217147.77151908,\n",
       "       183622.90655459, 144007.38021091, 290471.83104816, 298394.58065834,\n",
       "       120010.20733902, 162018.47845808, 197449.90349982, 147524.24807176,\n",
       "       145664.70528869, 335793.81885027,  71891.39928947, 138190.7735252 ,\n",
       "       251602.36821084, 166747.28015517, 227014.64604175, 106282.96813813,\n",
       "       180690.17317792, 164725.13658455, 279134.90898991, 204378.35005391,\n",
       "       222073.2129011 , 279955.88614994, 169631.20267722, 212883.34258152,\n",
       "       218481.10429208, 131930.45247431, 190250.91773465, 118065.97892638,\n",
       "       142412.00698402, 235629.7122707 , 167390.19128627, 109109.28229288,\n",
       "       100440.0906726 , 161739.04031788, 314589.81526906, 109899.1394337 ,\n",
       "       130053.83436287,  81123.75937703, 136672.12213528, 285681.27340025,\n",
       "       163327.67493487, 237371.07219919, 142203.27096557, 220717.19844035,\n",
       "       250192.8498919 , 173952.43077117, 282676.91958441, 141063.13403356,\n",
       "       249393.83344124, 243881.77576768, 229386.63255779, 229592.41223003,\n",
       "       217675.67291588, 121413.80944288, 158473.16146518, 205247.16701547,\n",
       "        56420.76565397, 231330.06494343, 133103.20710839, 125636.94545614,\n",
       "       208712.21274359, 167041.99873687, 154003.62867565, 122744.96871275,\n",
       "       281414.3472752 , 178023.59794817, 104503.08694418, 211025.4204165 ,\n",
       "       217404.98152388, 200453.71905345,  88656.47206737, 103294.23163206,\n",
       "       177991.86658933, 186123.96003493, 128783.03280621, 304016.50855559,\n",
       "       110918.44633894, 200215.32717299, 214471.37498789, 321838.11620568,\n",
       "       125157.61396828, 191940.49167203, 142699.39584541, 196068.19815693,\n",
       "       164564.16884169, 260367.17703725, 251602.36821084, 162770.72560555,\n",
       "       132222.00770951, 279157.78449405, 132076.11340784, 126004.20279444,\n",
       "       122460.95019815, 216237.29279074, 201489.55741849, 248216.13728035,\n",
       "       133464.90741284, 180462.35358029, 186154.19723356, 240974.06711415,\n",
       "       227842.00823682, 162169.81310953, 196968.80690306, 163283.13395419,\n",
       "       176436.06985862, 156884.3198479 , 148280.2023218 , 191454.89743955,\n",
       "        53281.90100139, 248565.09937639,  73937.47973355, 219362.33566516,\n",
       "        96822.8239498 , 312870.50284352, 194847.26124667, 125763.41931034,\n",
       "       153161.62022388, 154828.40336699, 219497.73690002, 183331.36450332,\n",
       "       215627.3813881 , 150877.4924577 , 179739.58529754, 236740.90477035,\n",
       "       286984.47247476, 219148.52813941, 176180.8527245 , 186889.47596295,\n",
       "       125137.89620429, 108713.62439079, 131566.50714079])"
      ]
     },
     "execution_count": 98,
     "metadata": {},
     "output_type": "execute_result"
    }
   ],
   "source": [
    "y_hat = linreg.predict(X_holdout)\n",
    "y_hat"
   ]
  },
  {
   "cell_type": "code",
   "execution_count": 99,
   "metadata": {},
   "outputs": [
    {
     "name": "stderr",
     "output_type": "stream",
     "text": [
      "C:\\Users\\Adiwid\\Anaconda3\\lib\\site-packages\\ipykernel_launcher.py:1: SettingWithCopyWarning: \n",
      "A value is trying to be set on a copy of a slice from a DataFrame.\n",
      "Try using .loc[row_indexer,col_indexer] = value instead\n",
      "\n",
      "See the caveats in the documentation: http://pandas.pydata.org/pandas-docs/stable/indexing.html#indexing-view-versus-copy\n",
      "  \"\"\"Entry point for launching an IPython kernel.\n"
     ]
    }
   ],
   "source": [
    "X_holdout['SalePrice'] = list(y_hat)"
   ]
  },
  {
   "cell_type": "code",
   "execution_count": 100,
   "metadata": {},
   "outputs": [
    {
     "data": {
      "text/html": [
       "<div>\n",
       "<style scoped>\n",
       "    .dataframe tbody tr th:only-of-type {\n",
       "        vertical-align: middle;\n",
       "    }\n",
       "\n",
       "    .dataframe tbody tr th {\n",
       "        vertical-align: top;\n",
       "    }\n",
       "\n",
       "    .dataframe thead th {\n",
       "        text-align: right;\n",
       "    }\n",
       "</style>\n",
       "<table border=\"1\" class=\"dataframe\">\n",
       "  <thead>\n",
       "    <tr style=\"text-align: right;\">\n",
       "      <th></th>\n",
       "      <th>Lot Area</th>\n",
       "      <th>Overall Qual</th>\n",
       "      <th>Pool Area</th>\n",
       "      <th>Garage Area</th>\n",
       "      <th>SalePrice</th>\n",
       "    </tr>\n",
       "  </thead>\n",
       "  <tbody>\n",
       "    <tr>\n",
       "      <th>0</th>\n",
       "      <td>9142</td>\n",
       "      <td>6</td>\n",
       "      <td>0</td>\n",
       "      <td>440</td>\n",
       "      <td>173782.309857</td>\n",
       "    </tr>\n",
       "    <tr>\n",
       "      <th>1</th>\n",
       "      <td>9662</td>\n",
       "      <td>5</td>\n",
       "      <td>0</td>\n",
       "      <td>580</td>\n",
       "      <td>150973.793062</td>\n",
       "    </tr>\n",
       "    <tr>\n",
       "      <th>2</th>\n",
       "      <td>17104</td>\n",
       "      <td>7</td>\n",
       "      <td>0</td>\n",
       "      <td>426</td>\n",
       "      <td>222567.247016</td>\n",
       "    </tr>\n",
       "    <tr>\n",
       "      <th>3</th>\n",
       "      <td>8520</td>\n",
       "      <td>5</td>\n",
       "      <td>0</td>\n",
       "      <td>480</td>\n",
       "      <td>139940.336333</td>\n",
       "    </tr>\n",
       "    <tr>\n",
       "      <th>4</th>\n",
       "      <td>9500</td>\n",
       "      <td>6</td>\n",
       "      <td>0</td>\n",
       "      <td>514</td>\n",
       "      <td>181112.044957</td>\n",
       "    </tr>\n",
       "  </tbody>\n",
       "</table>\n",
       "</div>"
      ],
      "text/plain": [
       "   Lot Area  Overall Qual  Pool Area  Garage Area      SalePrice\n",
       "0      9142             6          0          440  173782.309857\n",
       "1      9662             5          0          580  150973.793062\n",
       "2     17104             7          0          426  222567.247016\n",
       "3      8520             5          0          480  139940.336333\n",
       "4      9500             6          0          514  181112.044957"
      ]
     },
     "execution_count": 100,
     "metadata": {},
     "output_type": "execute_result"
    }
   ],
   "source": [
    "X_holdout.head()"
   ]
  },
  {
   "cell_type": "code",
   "execution_count": 101,
   "metadata": {},
   "outputs": [
    {
     "name": "stderr",
     "output_type": "stream",
     "text": [
      "C:\\Users\\Adiwid\\Anaconda3\\lib\\site-packages\\ipykernel_launcher.py:1: SettingWithCopyWarning: \n",
      "A value is trying to be set on a copy of a slice from a DataFrame.\n",
      "Try using .loc[row_indexer,col_indexer] = value instead\n",
      "\n",
      "See the caveats in the documentation: http://pandas.pydata.org/pandas-docs/stable/indexing.html#indexing-view-versus-copy\n",
      "  \"\"\"Entry point for launching an IPython kernel.\n"
     ]
    }
   ],
   "source": [
    "X_holdout['Id'] = df_to_pred['Id']"
   ]
  },
  {
   "cell_type": "code",
   "execution_count": 102,
   "metadata": {},
   "outputs": [
    {
     "name": "stderr",
     "output_type": "stream",
     "text": [
      "C:\\Users\\Adiwid\\Anaconda3\\lib\\site-packages\\pandas\\core\\frame.py:3697: SettingWithCopyWarning: \n",
      "A value is trying to be set on a copy of a slice from a DataFrame\n",
      "\n",
      "See the caveats in the documentation: http://pandas.pydata.org/pandas-docs/stable/indexing.html#indexing-view-versus-copy\n",
      "  errors=errors)\n"
     ]
    },
    {
     "data": {
      "text/html": [
       "<div>\n",
       "<style scoped>\n",
       "    .dataframe tbody tr th:only-of-type {\n",
       "        vertical-align: middle;\n",
       "    }\n",
       "\n",
       "    .dataframe tbody tr th {\n",
       "        vertical-align: top;\n",
       "    }\n",
       "\n",
       "    .dataframe thead th {\n",
       "        text-align: right;\n",
       "    }\n",
       "</style>\n",
       "<table border=\"1\" class=\"dataframe\">\n",
       "  <thead>\n",
       "    <tr style=\"text-align: right;\">\n",
       "      <th></th>\n",
       "      <th>SalePrice</th>\n",
       "      <th>Id</th>\n",
       "    </tr>\n",
       "  </thead>\n",
       "  <tbody>\n",
       "    <tr>\n",
       "      <th>0</th>\n",
       "      <td>173782.309857</td>\n",
       "      <td>2658</td>\n",
       "    </tr>\n",
       "    <tr>\n",
       "      <th>1</th>\n",
       "      <td>150973.793062</td>\n",
       "      <td>2718</td>\n",
       "    </tr>\n",
       "    <tr>\n",
       "      <th>2</th>\n",
       "      <td>222567.247016</td>\n",
       "      <td>2414</td>\n",
       "    </tr>\n",
       "    <tr>\n",
       "      <th>3</th>\n",
       "      <td>139940.336333</td>\n",
       "      <td>1989</td>\n",
       "    </tr>\n",
       "    <tr>\n",
       "      <th>4</th>\n",
       "      <td>181112.044957</td>\n",
       "      <td>625</td>\n",
       "    </tr>\n",
       "  </tbody>\n",
       "</table>\n",
       "</div>"
      ],
      "text/plain": [
       "       SalePrice    Id\n",
       "0  173782.309857  2658\n",
       "1  150973.793062  2718\n",
       "2  222567.247016  2414\n",
       "3  139940.336333  1989\n",
       "4  181112.044957   625"
      ]
     },
     "execution_count": 102,
     "metadata": {},
     "output_type": "execute_result"
    }
   ],
   "source": [
    "X_holdout.drop(features, axis=1,inplace=True)\n",
    "X_holdout.head()"
   ]
  },
  {
   "cell_type": "code",
   "execution_count": 103,
   "metadata": {},
   "outputs": [],
   "source": [
    "X_holdout.set_index('Id', inplace = True)"
   ]
  },
  {
   "cell_type": "code",
   "execution_count": 104,
   "metadata": {},
   "outputs": [
    {
     "data": {
      "text/html": [
       "<div>\n",
       "<style scoped>\n",
       "    .dataframe tbody tr th:only-of-type {\n",
       "        vertical-align: middle;\n",
       "    }\n",
       "\n",
       "    .dataframe tbody tr th {\n",
       "        vertical-align: top;\n",
       "    }\n",
       "\n",
       "    .dataframe thead th {\n",
       "        text-align: right;\n",
       "    }\n",
       "</style>\n",
       "<table border=\"1\" class=\"dataframe\">\n",
       "  <thead>\n",
       "    <tr style=\"text-align: right;\">\n",
       "      <th></th>\n",
       "      <th>SalePrice</th>\n",
       "    </tr>\n",
       "    <tr>\n",
       "      <th>Id</th>\n",
       "      <th></th>\n",
       "    </tr>\n",
       "  </thead>\n",
       "  <tbody>\n",
       "    <tr>\n",
       "      <th>2658</th>\n",
       "      <td>173782.309857</td>\n",
       "    </tr>\n",
       "    <tr>\n",
       "      <th>2718</th>\n",
       "      <td>150973.793062</td>\n",
       "    </tr>\n",
       "    <tr>\n",
       "      <th>2414</th>\n",
       "      <td>222567.247016</td>\n",
       "    </tr>\n",
       "    <tr>\n",
       "      <th>1989</th>\n",
       "      <td>139940.336333</td>\n",
       "    </tr>\n",
       "    <tr>\n",
       "      <th>625</th>\n",
       "      <td>181112.044957</td>\n",
       "    </tr>\n",
       "  </tbody>\n",
       "</table>\n",
       "</div>"
      ],
      "text/plain": [
       "          SalePrice\n",
       "Id                 \n",
       "2658  173782.309857\n",
       "2718  150973.793062\n",
       "2414  222567.247016\n",
       "1989  139940.336333\n",
       "625   181112.044957"
      ]
     },
     "execution_count": 104,
     "metadata": {},
     "output_type": "execute_result"
    }
   ],
   "source": [
    "X_holdout.head()"
   ]
  },
  {
   "cell_type": "code",
   "execution_count": 105,
   "metadata": {},
   "outputs": [],
   "source": [
    "X_holdout.to_csv(\"./my_first_submission.csv\")"
   ]
  }
 ],
 "metadata": {
  "kernelspec": {
   "display_name": "Python 3",
   "language": "python",
   "name": "python3"
  },
  "language_info": {
   "codemirror_mode": {
    "name": "ipython",
    "version": 3
   },
   "file_extension": ".py",
   "mimetype": "text/x-python",
   "name": "python",
   "nbconvert_exporter": "python",
   "pygments_lexer": "ipython3",
   "version": "3.7.1"
  }
 },
 "nbformat": 4,
 "nbformat_minor": 2
}
